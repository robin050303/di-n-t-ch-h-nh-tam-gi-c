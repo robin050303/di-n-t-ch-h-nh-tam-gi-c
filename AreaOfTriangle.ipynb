{
 "cells": [
  {
   "cell_type": "code",
   "execution_count": 35,
   "id": "ce362f7e",
   "metadata": {},
   "outputs": [
    {
     "name": "stdout",
     "output_type": "stream",
     "text": [
      "Hãy nhập số: 12\n",
      "Hãy nhập số: 15\n",
      "Hãy nhập số: 13\n",
      "74.83314773547883\n"
     ]
    }
   ],
   "source": [
    "import math\n",
    "a = float(input('Hãy nhập số: '))\n",
    "b = float(input('Hãy nhập số: '))\n",
    "c = float(input('Hãy nhập số: '))\n",
    "if a + b >= c and  c + b >= a and a + c >= b:\n",
    "    d = (a+b+c)/2\n",
    "    s = math.sqrt(d*(d-a)*(d-b)*(d-c))\n",
    "    print(s)\n",
    "else:\n",
    "    print('không hợp lệ')\n",
    "\n",
    "\n",
    "\n"
   ]
  }
 ],
 "metadata": {
  "kernelspec": {
   "display_name": "Python 3 (ipykernel)",
   "language": "python",
   "name": "python3"
  },
  "language_info": {
   "codemirror_mode": {
    "name": "ipython",
    "version": 3
   },
   "file_extension": ".py",
   "mimetype": "text/x-python",
   "name": "python",
   "nbconvert_exporter": "python",
   "pygments_lexer": "ipython3",
   "version": "3.9.5"
  }
 },
 "nbformat": 4,
 "nbformat_minor": 5
}
